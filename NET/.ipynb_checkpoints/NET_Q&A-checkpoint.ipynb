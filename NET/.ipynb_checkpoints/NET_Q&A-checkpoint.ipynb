{
 "cells": [
  {
   "cell_type": "markdown",
   "metadata": {},
   "source": [
    "### Questions \n"
   ]
  },
  {
   "cell_type": "markdown",
   "metadata": {},
   "source": [
    "#### Lecture 1\n",
    "\n",
    "1. What is parallel conductance model? \n",
    "2. What characteristics of PCM do you remember? "
   ]
  },
  {
   "cell_type": "markdown",
   "metadata": {},
   "source": [
    "#### Lecture 2\n",
    "\n",
    "1. When will you use sharp, patch clump, extracellular electrode? "
   ]
  },
  {
   "cell_type": "markdown",
   "metadata": {},
   "source": [
    "#### Lecture 4 \n",
    "1. What regimes of EOS do you know? What regime is useful for neuroscience? Why? \n",
    "2. What is the relation between drain current $I_D$ and $V_{gate}$. How can we use it in neuroscience? \n",
    "3. What causes $V_J$?\n",
    "4. How can we check our recordings? \n",
    "5. Can we put many EOS below one neuron? What do we have to use? \n",
    "6. What assumpion do we do to simplify point contact model? \n",
    "7. What are tree types of $V_J$ responses?\n",
    "8. What are the direction of the AP here? What is possible reason for such order of signals (first positive, then negative)? \n",
    "> <img  src=\"./images/l4g10.png\" width=900/>"
   ]
  },
  {
   "cell_type": "markdown",
   "metadata": {},
   "source": [
    "#### Lecture 9\n",
    "\n",
    "1. What is $I_{rheobase}$? How is it connected with $\\Delta I_{threshold}$ ? How does it connect with $\\Delta V_{threshold}$?\n",
    "\n",
    "2. How long is the chronaxie compared to the membrane time constant ?\n",
    "\n",
    "3. When Lapique‘s theory is useful? When is it not working?\n",
    "\n",
    "4. What type of electrodes is used for extracellular stimullations? Why?\n",
    "\n",
    "5. What current do we obtain above a capacitive electrode if we apply a voltage ramp with constant slope ?\n",
    "\n",
    "6. What is two domain model? \n",
    "\n",
    "7. What does stationary voltage depend on if we use voltage ramp? \n",
    "\n",
    "8. How do $V_{JM}$ and $V_{FM}$ change during stimulation? What is two ways to induce AP? \n",
    "\n",
    "9. How can we use Strength-duration relations? "
   ]
  },
  {
   "cell_type": "markdown",
   "metadata": {},
   "source": [
    "1. Name at least 3 important parameters/properties of fluorescent dyes and explain\n",
    "in 1 sentence (each) what they tell you about the dye. (3 points)\n",
    "> Important parameters of fluorescent dyes\n",
    "  * $\\varepsilon$ - molar excitation coefficient is a measurement of how strongly a molecules **absorb light** at a given wavelength.    \n",
    "    Beer-Lambert law: $A=\\varepsilon cL$, where $A$ - absorbance, $c$ - concentation, $L$ - pathlength\n",
    "  * Quantum yield : $ \\Phi_{f}$ $ =\\frac{N_{emitted}}{N_{absorbed}}$\n",
    "  * Fluorescence lifetime $\\tau_f$ - average **time** a molecule spends in its excited\n",
    "(singlet) state **before emission**\n",
    "occurs\n",
    "2. About the relationship between excitation and emission wavelength of fluorescent\n",
    "dyes.\n",
    " - Under standard conditions, is the excitation wavelength of a fluorophor shorter\n",
    "or longer compared to its emission wavelength? (1 point)\n",
    "> Shorter because it has more energy\n",
    " - Can you think of a condition for which this is not the case? Explain in a few\n",
    "words. (4 points)\n",
    "> Maybe when we use 2-photon microscope. Because in this case the exitation energy is energy of two photons, emission wavelength $\\lambda_{em}>\\frac{\\lambda_{ex}}{2}$ so it can we shorter than $\\lambda_{ex}$\n",
    "\n",
    " - Draw a simplified Jablonski diagram for illustration (3 points).\n",
    "> <img  src=\"./images/l6f2_1.png\" width=400/>\n",
    " - What limits the range of excitation wavelengths that can be used for generating\n",
    "fluorescence? (5 points)\n",
    "> - We can not use very small ($\\lambda<200 nm$ ) wavelengths, because they consist such amount of energy ($E=\\frac{hc}{\\lambda}$)  that will demage our fluofore (broke $C-C$ bonds, ionise molecule)\n",
    "> - $\\lambda>700 nm$ - only low lying S1 states can be reached; typically more reactive ???\n",
    "> $\\Rightarrow$ such fluorophors have low thermal and photochemical stability  \n",
    "\n",
    "3. Spatial resolution in light microscopy.\n",
    " - What limits the spatial resolution of a light microscope? (2 points)\n",
    "> Abbe diffration limit  = size of PSF. (We can not resolve objects that are $\\approx \\lambda$)\n",
    " - Name at least 2 principles – technical or conceptual improvements – that have\n",
    "been applied to increase the spatial resolution of fluorescent microscopy.\n",
    "Explain each of the examples with 2-3 sentences and, if useful, a drawing. (6\n",
    "points)\n",
    "> **Single Marker Switching (SMS) Microscopy**\n",
    ">\n",
    ">- Image acquisition process:\n",
    "all dyes off $\\rightarrow$ switch-on small fraction\n",
    "$\\rightarrow$ acquire image $\\rightarrow$ all off \n",
    "> <img  src=\"./images/l6f6.png\"/>\n",
    ">**STED**:\n",
    ">- resolution increase by:\n",
    "de-excitation of excited fluorophors via\n",
    "stimulated emission using a red-shifted\n",
    "light beam with a local intensity zero\n",
    "in the center (“donut mode beam”)\n",
    "><img  src=\"./images/l6f5.png\"/>\n",
    "\n",
    "4. What does the Hodgkin-Huxley model describe? Explain how Hodgkin and Huxley set up their model (experimental setup, what was measured, what did they model)\n",
    "> HH model the membrane voltage changes during AP. They used giant SQUID axon. (because they need to put two electrode inside axon: one to record, other to change potential of membrane)\n",
    "> 1. They used voltage clamp to measure conductance (as the function of voltage)\n",
    "> 2. They changed extracellular concentration of $Na$ and record $K$ currents, and therefore can calculate 2 functional dependances ($g_K, g_Na$)\n",
    "> 3. They assume existance of gates and that opening and closing of gate is described by linear differential equation: $$\\frac{dn}{dt}=\\alpha(V)n+\\beta(V)(1-n)$$\n",
    "> 4. They used data from voltage clump to find $\\alpha(V)$ and $\\beta(V)$\n",
    "> 5. They compare their model with voltage from current clump. \n",
    "\n",
    "5. Imagine you have a glass micropipette and an isolated neuron in a dish. What\n",
    "else do you need to record an action potential?\n",
    "> - I think we need something that congucts electricity(as silvercloride).\n",
    "> - Also we have to stimulate neuron (because it is one isolated neuron) so we need current source, and another pipette to inject the current (also we can use capacitive stimulation)\n",
    "\n",
    "6. The potential in the junction between a neuron and an extracellular\n",
    "electrode $V_J$ may be determined by the following relation:\n",
    "$$V_J=R_{SEAL}C_{JM}\\frac{dV_M}{dt}$$\n",
    "$R_{SEAL}$ is the resistance of the cleft, $C_{JM}$ a specific capacitance and $V_M$ the\n",
    "transmembrane potential. Please provide a schematic drawing of the\n",
    "signal detected by the extracellular electrode.\n",
    "> <img  src=\"./images/l2g9.png\"/>\n",
    "\n",
    "7. Extracellular electrodes can be integrated into arrays at high spatial\n",
    "density. Explain advantages and disadvantages of such high integration.\n",
    "> - We can recond continues recordings (so we have many electrodes to one neuron, and always record from all electrodes). We can use these recordings to see propagation of AP in space \n",
    "> - Also we don't have to think about position of neuron (that migrate to some new place), because we record all the possible positions. \n",
    "> - But , we need to record a **lot of data** (untill USB3 it was impossible to save all this information in real time)\n",
    "\n",
    "8. Explain the strategy discussed in the lecture to map the receptive field\n",
    "of a sensory neuron in the visual system.\n",
    "Which stimuli are needed?\n",
    "What kind of activity is recorded and how ?\n",
    "What approximation is usually performed to provide the size of the\n",
    "receptive field ? \n",
    "> - So we present random combination of colored pixels, many times. (white noise stimuli)\n",
    "> - The spikes of GC is recored by electrode array (retina placed on camera and flexible electrode array are placed above)"
   ]
  },
  {
   "cell_type": "code",
   "execution_count": null,
   "metadata": {
    "collapsed": true
   },
   "outputs": [],
   "source": []
  }
 ],
 "metadata": {
  "kernelspec": {
   "display_name": "Python 2",
   "language": "python",
   "name": "python2"
  },
  "language_info": {
   "codemirror_mode": {
    "name": "ipython",
    "version": 2
   },
   "file_extension": ".py",
   "mimetype": "text/x-python",
   "name": "python",
   "nbconvert_exporter": "python",
   "pygments_lexer": "ipython2",
   "version": "2.7.11"
  }
 },
 "nbformat": 4,
 "nbformat_minor": 0
}
